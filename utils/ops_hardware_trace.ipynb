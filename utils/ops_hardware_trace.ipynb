{
 "cells": [
  {
   "cell_type": "code",
   "execution_count": 1,
   "metadata": {},
   "outputs": [],
   "source": [
    "import json\n",
    "import numpy\n",
    "from collections import OrderedDict\n",
    "import sys\n",
    "\n",
    "def load_hardware_trace_json(file):\n",
    "    \"\"\"\n",
    "    Reads a timeline.json file output by Tensorflow/libcupti and returns and OrderedDict object\n",
    "    :param file: .json file.\n",
    "    :return: OrderedDict\n",
    "    \"\"\"\n",
    "    with open(file, mode='r') as f:\n",
    "\n",
    "        def _as_ordered_dict(val):\n",
    "            return OrderedDict(val)\n",
    "\n",
    "        def _as_list(val):\n",
    "            return list(val)\n",
    "\n",
    "        output = json.load(f, object_hook=_as_ordered_dict, object_pairs_hook=_as_ordered_dict)\n",
    "        dic = OrderedDict(output)\n",
    "\n",
    "    return dic\n",
    "\n",
    "def get_all_ops(trace_dic):\n",
    "    \"\"\"\n",
    "    Params: \n",
    "    trace_dic: collections.OrderedDict of traceEvent\n",
    "    Return: list of dictionaries of all ops.\n",
    "    \"\"\"\n",
    "    try:\n",
    "        traceEvents = trace_dic['traceEvents']\n",
    "    except KeyError:\n",
    "        print('Not valid GPU trace dict object.')\n",
    "        sys.exit()\n",
    "    all_ops = []\n",
    "    for trace in traceEvents:\n",
    "        try:\n",
    "            if trace['cat'] == 'Op':\n",
    "                all_ops.append(trace)\n",
    "        except KeyError:\n",
    "            pass\n",
    "    return all_ops\n",
    "\n",
    "def get_stream_all(trace_dic):\n",
    "    \"\"\"\n",
    "    Params: \n",
    "    trace_dic: collections.OrderedDict of traceEvent\n",
    "    Return: pid of GPU/stream:all, (stream, pid) dictionary\n",
    "    \"\"\"\n",
    "    try:\n",
    "        traceEvents = trace_dic['traceEvents']\n",
    "    except KeyError:\n",
    "        print('Not valid GPU trace dict object.')\n",
    "        sys.exit()\n",
    "    all_procs = []\n",
    "    for trace in traceEvents:\n",
    "        try:\n",
    "            if trace['name'] == 'process_name':\n",
    "                all_procs.append((trace['args']['name'], trace['pid']))\n",
    "        except KeyError:\n",
    "            pass\n",
    "    dic_procs = dict(all_procs)\n",
    "    pid = dic_procs['/device:GPU:0/stream:all Compute']\n",
    "    return dic_procs, pid\n",
    "\n",
    "def get_unique_ops_names(all_ops):\n",
    "    '''\n",
    "    Find unique op names.\n",
    "    Params: \n",
    "    all_ops: list, of dictionary of all operations.\n",
    "    Return: list of unique op names.\n",
    "    '''\n",
    "    return set(op['name'] for op in all_ops)\n",
    "\n",
    "def get_wall_duration(op_names, all_ops, pid_list=[11, 7, 13, 15, 9]):\n",
    "    '''\n",
    "    Calculates wall duration for each op in op_names.\n",
    "    Params:\n",
    "    op_names: list (str), names of ops of interest.\n",
    "    pid_list: list (str), names of pid to include.\n",
    "    all_ops: output of get_all_ops().\n",
    "    Return:\n",
    "    total wall duration, dict['op'] = wall duration.\n",
    "    '''\n",
    "   #1. Construct dictionary of op with name matching op_names \n",
    "    ops_dic=OrderedDict()\n",
    "    for name in op_names:\n",
    "        ops = []\n",
    "        for op in all_ops:\n",
    "            if op['name'] == name:\n",
    "                ops.append(op)\n",
    "        ops_dic[name] = ops\n",
    "    \n",
    "    #2. get duration for each op\n",
    "    op_dict = OrderedDict()\n",
    "    total_dur = 0\n",
    "    for op_name in op_names:\n",
    "        op_dur = 0\n",
    "        for itm in ops_dic[op_name]:\n",
    "            if itm['pid'] in pid_list:\n",
    "                op_dur += itm['dur']\n",
    "        op_dict[op_name] = op_dur*1e-3 # convert from us to ms\n",
    "        total_dur += op_dur*1e-3\n",
    "        \n",
    "    print('Total Wall Duration (ms): %4.3f\\n' % total_dur)\n",
    "    sorted_dur = sorted(op_dict.items(), key=lambda x: x[1])[::-1]\n",
    "    print('OPS with wall duration > 5 ms:')\n",
    "    for itm in sorted_dur:\n",
    "        if itm[1] > 5:\n",
    "            if itm[0] == 'unknown':\n",
    "                name = 'unknown (nccl AllReduceKernel_sum_)'\n",
    "            else:\n",
    "                name = itm[0]\n",
    "            print('%s : %3.3f ms' %(name,itm[1]))\n",
    "    return total_dur, op_dict"
   ]
  },
  {
   "cell_type": "code",
   "execution_count": 2,
   "metadata": {},
   "outputs": [
    {
     "name": "stdout",
     "output_type": "stream",
     "text": [
      "{'Mul', 'Identity', 'PreventGradient', 'Conv2DBackpropFilter', 'MEMCPYHtoD', 'Pow', 'LessEqual', 'Tile', 'Less', 'AvgPool', 'Switch', 'Conv2D', 'Merge', 'ExpandDims', 'L2Loss', 'SparseSoftmaxCrossEntropyWithLogits', 'AddN', 'Maximum', 'unknown', '_ParallelConcatStart', 'Sub', 'MaxPoolGrad', 'ArgMax', 'Const', 'DecodeRaw', 'Sqrt', 'MEMCPYDtoH', 'Equal', 'Mean', 'FusedBatchNormGradV2', '_ParallelConcatUpdate', 'BiasAdd', 'BiasAddGrad', 'Conv2DBackpropInput', 'Cast', 'Add', 'Floor', 'Square', 'AssignSub', 'Split', 'AvgPoolGrad', 'StridedSlice', 'RecordInput', 'Transpose', 'AssignAdd', 'HorovodAllreduce', 'ConcatV2', 'MEMCPYDtoD', 'MatMul', 'ApplyMomentum', 'Reshape', 'FusedBatchNormV2', 'NoOp', 'Unstage', 'MaxPool', 'ParseSingleExample', 'ReluGrad', 'RealDiv', 'Relu', 'Stage', 'VariableV2'}\n"
     ]
    }
   ],
   "source": [
    "# Load timeline and get all ops information\n",
    "dic = load_hardware_trace_json('resnet_50_heavy/timeline.ctf.3.json')\n",
    "all_ops = get_all_ops(dic)\n",
    "# Find Names of unique Ops\n",
    "unique_op_names = get_unique_ops_names(all_ops)\n",
    "print(unique_op_names)"
   ]
  },
  {
   "cell_type": "code",
   "execution_count": 3,
   "metadata": {},
   "outputs": [
    {
     "data": {
      "text/plain": [
       "{'/device:GPU:0/memcpy Compute': 9,\n",
       " '/device:GPU:0/memcpy Tensors': 10,\n",
       " '/device:GPU:0/stream:13 Compute': 17,\n",
       " '/device:GPU:0/stream:13 Tensors': 18,\n",
       " '/device:GPU:0/stream:14 Compute': 5,\n",
       " '/device:GPU:0/stream:14 Tensors': 6,\n",
       " '/device:GPU:0/stream:15 Compute': 1,\n",
       " '/device:GPU:0/stream:15 Tensors': 2,\n",
       " '/device:GPU:0/stream:17 Compute': 7,\n",
       " '/device:GPU:0/stream:17 Tensors': 8,\n",
       " '/device:GPU:0/stream:18 Compute': 15,\n",
       " '/device:GPU:0/stream:18 Tensors': 16,\n",
       " '/device:GPU:0/stream:26 Compute': 3,\n",
       " '/device:GPU:0/stream:26 Tensors': 4,\n",
       " '/device:GPU:0/stream:all Compute': 11,\n",
       " '/device:GPU:0/stream:all Tensors': 12,\n",
       " '/job:localhost/replica:0/task:0/device:CPU:0 Compute': 13,\n",
       " '/job:localhost/replica:0/task:0/device:CPU:0 Tensors': 14,\n",
       " '/job:localhost/replica:0/task:0/device:GPU:0 Compute': 19,\n",
       " '/job:localhost/replica:0/task:0/device:GPU:0 Tensors': 20,\n",
       " 'Allocators': 0}"
      ]
     },
     "execution_count": 3,
     "metadata": {},
     "output_type": "execute_result"
    }
   ],
   "source": [
    "proc_dic, stream_all_pid = get_stream_all(trace_dic=dic)\n",
    "proc_dic"
   ]
  },
  {
   "cell_type": "code",
   "execution_count": 4,
   "metadata": {},
   "outputs": [
    {
     "name": "stdout",
     "output_type": "stream",
     "text": [
      "Total Wall Duration (ms): 2250.133\n",
      "\n",
      "OPS with wall duration > 5 ms:\n",
      "Conv2D : 1160.922 ms\n",
      "Conv2DBackpropFilter : 569.469 ms\n",
      "unknown (nccl AllReduceKernel_sum_) : 297.506 ms\n",
      "Conv2DBackpropInput : 90.028 ms\n",
      "FusedBatchNormGradV2 : 28.982 ms\n",
      "ReluGrad : 24.394 ms\n",
      "MaxPoolGrad : 16.852 ms\n",
      "FusedBatchNormV2 : 14.570 ms\n",
      "Relu : 11.501 ms\n",
      "AddN : 7.347 ms\n",
      "Add : 6.795 ms\n",
      "BiasAdd : 6.178 ms\n"
     ]
    }
   ],
   "source": [
    "# Calculate wall duration of all ops\n",
    "total_dur, dur_dic_all = get_wall_duration(unique_op_names, all_ops, pid_list=[stream_all_pid])"
   ]
  }
 ],
 "metadata": {
  "kernelspec": {
   "display_name": "Python 3",
   "language": "python",
   "name": "python3"
  },
  "language_info": {
   "codemirror_mode": {
    "name": "ipython",
    "version": 3
   },
   "file_extension": ".py",
   "mimetype": "text/x-python",
   "name": "python",
   "nbconvert_exporter": "python",
   "pygments_lexer": "ipython3",
   "version": "3.6.4"
  }
 },
 "nbformat": 4,
 "nbformat_minor": 2
}
