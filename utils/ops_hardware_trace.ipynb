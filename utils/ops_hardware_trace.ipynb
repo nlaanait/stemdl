{
 "cells": [
  {
   "cell_type": "code",
   "execution_count": 1,
   "metadata": {},
   "outputs": [],
   "source": [
    "import json\n",
    "import numpy\n",
    "from collections import OrderedDict\n",
    "import sys\n",
    "\n",
    "def load_hardware_trace_json(file):\n",
    "    \"\"\"\n",
    "    Reads a timeline.json file output by Tensorflow/libcupti and returns and OrderedDict object\n",
    "    :param file: .json file.\n",
    "    :return: OrderedDict\n",
    "    \"\"\"\n",
    "    with open(file, mode='r') as f:\n",
    "\n",
    "        def _as_ordered_dict(val):\n",
    "            return OrderedDict(val)\n",
    "\n",
    "        def _as_list(val):\n",
    "            return list(val)\n",
    "\n",
    "        output = json.load(f, object_hook=_as_ordered_dict, object_pairs_hook=_as_ordered_dict)\n",
    "        dic = OrderedDict(output)\n",
    "\n",
    "    return dic\n",
    "\n",
    "def get_all_ops(trace_dic):\n",
    "    \"\"\"\n",
    "    Params: \n",
    "    trace_dic: collections.OrderedDict of traceEvent\n",
    "    Return: list of dictionaries of all ops.\n",
    "    \"\"\"\n",
    "    try:\n",
    "        traceEvents = trace_dic['traceEvents']\n",
    "    except KeyError:\n",
    "        print('Not valid GPU trace dict object.')\n",
    "        sys.exit()\n",
    "    all_ops = []\n",
    "    for trace in traceEvents:\n",
    "        try:\n",
    "            if trace['cat'] == 'Op':\n",
    "                all_ops.append(trace)\n",
    "        except KeyError:\n",
    "            pass\n",
    "    return all_ops\n",
    "\n",
    "def get_unique_ops_names(all_ops):\n",
    "    '''\n",
    "    Find unique op names.\n",
    "    Params: \n",
    "    all_ops: list, of dictionary of all operations.\n",
    "    Return: list of unique op names.\n",
    "    '''\n",
    "    return set(op['name'] for op in all_ops)\n",
    "\n",
    "def get_wall_duration(op_names, all_ops, pid_list=[11, 7, 13, 15, 9]):\n",
    "    '''\n",
    "    Calculates wall duration for each op in op_names.\n",
    "    Params:\n",
    "    op_names: list (str), names of ops of interest.\n",
    "    pid_list: list (str), names of pid to include.\n",
    "    all_ops: output of get_all_ops().\n",
    "    Return:\n",
    "    total wall duration, dict['op'] = wall duration.\n",
    "    '''\n",
    "   #1. Construct dictionary of op with name matching op_names \n",
    "    ops_dic=OrderedDict()\n",
    "    for name in unique_op_names:\n",
    "        ops = []\n",
    "        for op in all_ops:\n",
    "            if op['name'] == name:\n",
    "                ops.append(op)\n",
    "        ops_dic[name] = ops\n",
    "    \n",
    "    #2. get duration for each op\n",
    "    op_dict = OrderedDict()\n",
    "    total_dur = 0\n",
    "    for op_name in op_names:\n",
    "        op_dur = 0\n",
    "        for itm in ops_dic[op_name]:\n",
    "            if itm['pid'] in pid_list:\n",
    "                op_dur += itm['dur']\n",
    "        op_dict[op_name] = op_dur*1e-3 # convert from us to ms\n",
    "        total_dur += op_dur*1e-3\n",
    "        \n",
    "    print('Wall Duration (ms): %4.3f' % total_dur)\n",
    "    return total_dur, op_dict"
   ]
  },
  {
   "cell_type": "code",
   "execution_count": 2,
   "metadata": {},
   "outputs": [
    {
     "name": "stdout",
     "output_type": "stream",
     "text": [
      "{'_ParallelConcatStart', 'ConcatV2', 'ReluGrad', 'L2Loss', 'Mean', 'Conv2DBackpropInput', 'FusedBatchNormGradV2', 'Transpose', 'MEMCPYDtoD', 'Sqrt', 'Conv2D', '_Retval', 'HorovodAllreduce', 'ExpandDims', 'RealDiv', '_ParallelConcatUpdate', 'NoOp', 'AvgPoolGrad', 'Cast', 'Relu', 'Neg', 'MatMul', 'SquaredDifference', 'Assign', 'Square', 'MaxPool', 'Unstage', 'BiasAddGrad', 'VariableV2', 'RecordInput', 'Pow', 'Maximum', 'MaxPoolGrad', 'MEMCPYDtoH', 'unknown', 'FusedBatchNormV2', 'Squeeze', 'Floor', 'Sum', 'Mul', 'ShapeN', 'AssignSub', 'ApplyAdam', 'AddN', 'DecodeRaw', 'Split', 'MEMCPYHtoD', 'AssignAdd', 'Sub', 'Conv2DBackpropFilter', 'Stage', 'Identity', 'BiasAdd', 'AvgPool', 'Select', 'Const', 'ParseExample', 'Reshape', 'Add', 'Tile'}\n"
     ]
    }
   ],
   "source": [
    "# Load timeline and get all ops information\n",
    "dic = load_hardware_trace_json('timeline.ctf.3.json')\n",
    "all_ops = get_all_ops(dic)\n",
    "# Find Names of unique Ops\n",
    "unique_op_names = get_unique_ops_names(all_ops)\n",
    "print(unique_op_names)"
   ]
  },
  {
   "cell_type": "code",
   "execution_count": 3,
   "metadata": {},
   "outputs": [
    {
     "name": "stdout",
     "output_type": "stream",
     "text": [
      "Wall Duration (ms): 285.273\n"
     ]
    }
   ],
   "source": [
    "# Calculate wall duration of all ops\n",
    "total_dur, dur_dic = get_wall_duration(unique_op_names, all_ops)"
   ]
  },
  {
   "cell_type": "code",
   "execution_count": 4,
   "metadata": {},
   "outputs": [
    {
     "name": "stdout",
     "output_type": "stream",
     "text": [
      "Wall Duration (ms): 44.178\n"
     ]
    }
   ],
   "source": [
    "# Calculate wall duration of only forward analytical ops\n",
    "analytical_ops = ['Add','BiasAdd','Conv2D','Mul', 'AssignAdd', \n",
    "                  'AvgPool', 'MaxPool', 'RealDiv']\n",
    "total_dur, dur_dic = get_wall_duration(analytical_ops, all_ops)"
   ]
  }
 ],
 "metadata": {
  "kernelspec": {
   "display_name": "Python 3",
   "language": "python",
   "name": "python3"
  },
  "language_info": {
   "codemirror_mode": {
    "name": "ipython",
    "version": 3
   },
   "file_extension": ".py",
   "mimetype": "text/x-python",
   "name": "python",
   "nbconvert_exporter": "python",
   "pygments_lexer": "ipython3",
   "version": "3.6.4"
  }
 },
 "nbformat": 4,
 "nbformat_minor": 2
}
