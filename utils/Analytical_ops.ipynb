{
 "cells": [
  {
   "cell_type": "markdown",
   "metadata": {},
   "source": [
    "Quick and dirty calculator of ops and layer size given just the json file"
   ]
  },
  {
   "cell_type": "code",
   "execution_count": 1,
   "metadata": {
    "scrolled": false
   },
   "outputs": [
    {
     "name": "stdout",
     "output_type": "stream",
     "text": [
      "Inputs: (32, 1, 512, 512), memory: 16.0 MB\n",
      "conv1 - (32, 64, 256, 256), weights: 3136, memory: 256.0 MB, ops: 8.2e+08\n",
      "pool1 - (32, 64, 128, 128), weights: 0, memory: 64.0 MB, ops: 0.0e+00\n",
      "res1_1 - (32, 256, 128, 128), weights: 74496, memory: 640.0 MB, ops: 1.2e+09\n",
      "res1_2 - (32, 256, 128, 128), weights: 70400, memory: 384.0 MB, ops: 1.1e+09\n",
      "res1_3 - (32, 256, 128, 128), weights: 70400, memory: 384.0 MB, ops: 1.1e+09\n",
      "pool2 - (32, 256, 64, 64), weights: 0, memory: 64.0 MB, ops: 0.0e+00\n",
      "res2_1 - (32, 512, 64, 64), weights: 378368, memory: 320.0 MB, ops: 1.5e+09\n",
      "res2_2 - (32, 512, 64, 64), weights: 280064, memory: 192.0 MB, ops: 1.1e+09\n",
      "res2_3 - (32, 512, 64, 64), weights: 280064, memory: 192.0 MB, ops: 1.1e+09\n",
      "res2_4 - (32, 512, 64, 64), weights: 280064, memory: 192.0 MB, ops: 1.1e+09\n",
      "pool3 - (32, 512, 32, 32), weights: 0, memory: 32.0 MB, ops: 0.0e+00\n",
      "res3_1 - (32, 1024, 32, 32), weights: 1510400, memory: 160.0 MB, ops: 1.5e+09\n",
      "res3_2 - (32, 1024, 32, 32), weights: 1117184, memory: 96.0 MB, ops: 1.1e+09\n",
      "res3_3 - (32, 1024, 32, 32), weights: 1117184, memory: 96.0 MB, ops: 1.1e+09\n",
      "res3_4 - (32, 1024, 32, 32), weights: 1117184, memory: 96.0 MB, ops: 1.1e+09\n",
      "res3_5 - (32, 1024, 32, 32), weights: 1117184, memory: 96.0 MB, ops: 1.1e+09\n",
      "res3_6 - (32, 1024, 32, 32), weights: 1117184, memory: 96.0 MB, ops: 1.1e+09\n",
      "pool4 - (32, 1024, 16, 16), weights: 0, memory: 16.0 MB, ops: 0.0e+00\n",
      "res4_1 - (32, 2048, 16, 16), weights: 6035456, memory: 80.0 MB, ops: 1.5e+09\n",
      "res4_2 - (32, 2048, 16, 16), weights: 4462592, memory: 48.0 MB, ops: 1.1e+09\n",
      "res4_3 - (32, 2048, 16, 16), weights: 4462592, memory: 48.0 MB, ops: 1.1e+09\n",
      "pool5 - (32, 2048, 2, 2), weights: 0, memory: 0.5 MB, ops: 0.0e+00\n",
      "fc - (32, 1000), weights: 8209384, memory: 0.1 MB, ops: 8.2e+06\n",
      "linear_output - (32, 27), weights: 29027, memory: 0.0 MB, ops: 2.7e+04\n",
      "Total # of layers: 24,  weights: 3.2e+07, memory: 3568.5626831054688 MB, ops: 2.04e+10 \n",
      "\n"
     ]
    }
   ],
   "source": [
    "import ops\n",
    "inputs = (32, 1, 512, 512)\n",
    "network = ops.json_to_ordered_dict('../json/networks/network_ResNet_50.json')\n",
    "layer_stats, tot_weights, tot_mem, tot_ops = ops.calculate_network_complexity(inputs, network, is_fp16=True)"
   ]
  },
  {
   "cell_type": "markdown",
   "metadata": {},
   "source": [
    "Total # of layers: 24,  weights: 4.2e+07, memory: 3569.186767578125 MB, ops: 2.05e+10"
   ]
  },
  {
   "cell_type": "code",
   "execution_count": 2,
   "metadata": {},
   "outputs": [
    {
     "name": "stdout",
     "output_type": "stream",
     "text": [
      "Of the total 2.0e+10 ops: ops from conv2d: 2.0e+10, ops from linear layers: 8.2e+06\n"
     ]
    }
   ],
   "source": [
    "conv_ops = 0\n",
    "mult_ops = 0\n",
    "for layer in layer_stats:\n",
    "    if layer['type'] in ['convolutional', 'residual']:\n",
    "        conv_ops += layer['ops']\n",
    "    elif layer['type'] in ['fully_connected', 'linear_output']:\n",
    "        mult_ops += layer['ops']\n",
    "print('Of the total %3.1e ops: ops from conv2d: %3.1e, ops from linear layers: %3.1e' % (tot_ops, conv_ops, mult_ops))"
   ]
  }
 ],
 "metadata": {
  "kernelspec": {
   "display_name": "Python [default]",
   "language": "python",
   "name": "python3"
  },
  "language_info": {
   "codemirror_mode": {
    "name": "ipython",
    "version": 3
   },
   "file_extension": ".py",
   "mimetype": "text/x-python",
   "name": "python",
   "nbconvert_exporter": "python",
   "pygments_lexer": "ipython3",
   "version": "3.5.2"
  }
 },
 "nbformat": 4,
 "nbformat_minor": 1
}
