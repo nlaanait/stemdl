{
 "cells": [
  {
   "cell_type": "code",
   "execution_count": 1,
   "metadata": {
    "collapsed": true
   },
   "outputs": [],
   "source": [
    "import ops"
   ]
  },
  {
   "cell_type": "code",
   "execution_count": 2,
   "metadata": {
    "scrolled": false
   },
   "outputs": [
    {
     "name": "stdout",
     "output_type": "stream",
     "text": [
      "OPS: Min: 7.7e+11, Max: 1.6e+12, Avg: 1.1e+12\n"
     ]
    }
   ],
   "source": [
    "nvprof_dict = ops.parse_nvprof_csv('nvprof_sp.csv')\n",
    "print('OPS: Min: %3.1e, Max: %3.1e, Avg: %3.1e' % ops.sum_nvprof_ops(nvprof_dict))"
   ]
  },
  {
   "cell_type": "code",
   "execution_count": 3,
   "metadata": {
    "scrolled": false
   },
   "outputs": [
    {
     "name": "stdout",
     "output_type": "stream",
     "text": [
      "Collapsed 95 of 128 entries\n",
      "OPS: Min: 7.7e+11, Max: 1.6e+12, Avg: 1.1e+12\n"
     ]
    }
   ],
   "source": [
    "simplified_nvprof = ops.cluster_nvprof_ops(nvprof_dict)\n",
    "print('OPS: Min: %3.1e, Max: %3.1e, Avg: %3.1e' % ops.sum_nvprof_ops(simplified_nvprof))"
   ]
  },
  {
   "cell_type": "code",
   "execution_count": 8,
   "metadata": {
    "scrolled": false
   },
   "outputs": [
    {
     "name": "stdout",
     "output_type": "stream",
     "text": [
      "3.0e+11 << volta_scudnn_stridedB_splitK\n",
      "2.5e+11 << conv\n",
      "1.5e+11 << relu\n",
      "1.1e+11 << volta_cgemm_tn\n",
      "1.0e+11 << cudnn::detail::wgrad_alg0_engine\n",
      "5.4e+10 << volta_sgemm\n",
      "3.9e+10 << void cudnn::detail::dgrad_engine\n",
      "3.2e+10 << \"void pointwise_mult_and_sum_complex<flo\n",
      "2.4e+10 << volta_gcgemm_nt\n",
      "1.8e+10 << \"void cudnn::winograd::winograd3x3Kernel\n",
      "1.1e+10 << regular_fft\n",
      "1.1e+10 << void DSE::vector_fft\n",
      "9.2e+09 << fft2d_c2r\n",
      "8.7e+09 << fft2d_r2c\n",
      "1.2e+09 << \"void sgemm_largek_lds64<bool=0, bool=0,\n"
     ]
    }
   ],
   "source": [
    "sorted_avg = ops.sort_nvprof_dict(simplified_nvprof)\n",
    "for key, val in sorted_avg.items():\n",
    "    if val < 1E+9:\n",
    "        break\n",
    "    print('%3.1e << %s' % (val, key[:min(len(key), 40)], ))"
   ]
  },
  {
   "cell_type": "code",
   "execution_count": null,
   "metadata": {
    "collapsed": true
   },
   "outputs": [],
   "source": []
  }
 ],
 "metadata": {
  "kernelspec": {
   "display_name": "Python [default]",
   "language": "python",
   "name": "python3"
  },
  "language_info": {
   "codemirror_mode": {
    "name": "ipython",
    "version": 3
   },
   "file_extension": ".py",
   "mimetype": "text/x-python",
   "name": "python",
   "nbconvert_exporter": "python",
   "pygments_lexer": "ipython3",
   "version": "3.5.2"
  }
 },
 "nbformat": 4,
 "nbformat_minor": 2
}
