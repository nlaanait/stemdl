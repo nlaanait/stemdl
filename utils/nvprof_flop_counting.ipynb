{
 "cells": [
  {
   "cell_type": "code",
   "execution_count": 1,
   "metadata": {
    "collapsed": true
   },
   "outputs": [],
   "source": [
    "import ops"
   ]
  },
  {
   "cell_type": "code",
   "execution_count": 2,
   "metadata": {
    "scrolled": false
   },
   "outputs": [
    {
     "name": "stdout",
     "output_type": "stream",
     "text": [
      "OPS: Min: 7.7e+11, Max: 1.6e+12, Avg: 1.1e+12\n"
     ]
    }
   ],
   "source": [
    "nvprof_dict = ops.parse_nvprof_csv('nvprof_sp.csv')\n",
    "print('OPS: Min: %3.1e, Max: %3.1e, Avg: %3.1e' % ops.sum_nvprof_ops(nvprof_dict))"
   ]
  },
  {
   "cell_type": "code",
   "execution_count": 6,
   "metadata": {},
   "outputs": [
    {
     "name": "stdout",
     "output_type": "stream",
     "text": [
      "8.2e+10 << volta_scudnn_128x128_stridedB_splitK_xregs_large_nn_v1\n",
      "7.0e+10 << volta_cgemm_32x64_tn\n",
      "5.5e+10 << volta_scudnn_128x128_relu_small_nn_v1\n",
      "4.0e+10 << volta_cgemm_64x32_tn\n",
      "3.9e+10 << volta_scudnn_128x128_stridedB_splitK_small_nn_v1\n",
      "3.9e+10 << \"void cudnn::detail::implicit_convolve_sgemm<float, float, int=128, in\n",
      "3.9e+10 << volta_scudnn_128x64_relu_small_nn_v1\n",
      "3.9e+10 << volta_scudnn_128x128_stridedB_splitK_medium_nn_v1\n",
      "3.9e+10 << volta_scudnn_128x64_stridedB_small_nn_v1\n",
      "3.9e+10 << \"void cudnn::detail::explicit_convolve_sgemm<float, int, int=128, int=\n",
      "3.9e+10 << volta_scudnn_128x128_stridedB_small_nn_v1\n",
      "3.2e+10 << \"void pointwise_mult_and_sum_complex<float2, int=8, int=4>(float2*, fl\n",
      "2.9e+10 << \"void cudnn::detail::explicit_convolve_sgemm<float, int, int=128, int=\n",
      "2.8e+10 << \"void cudnn::detail::implicit_convolve_sgemm<float, float, int=128, in\n",
      "2.6e+10 << \"void cudnn::detail::explicit_convolve_sgemm<float, int, int=1024, int\n",
      "2.5e+10 << \"void cudnn::detail::wgrad_alg0_engine<float, int=512, int=6, int=5, i\n",
      "2.3e+10 << \"void cudnn::detail::wgrad_alg0_engine<float, int=128, int=6, int=8, i\n",
      "2.2e+10 << \"void cudnn::detail::dgrad_engine<float, int=128, int=6, int=8, int=3,\n",
      "2.1e+10 << \"void cudnn::detail::wgrad_alg0_engine<float, int=128, int=6, int=7, i\n",
      "2.0e+10 << volta_scudnn_128x128_stridedB_splitK_interior_nn_v1\n",
      "2.0e+10 << \"void cudnn::detail::implicit_convolve_sgemm<float, float, int=512, in\n",
      "1.9e+10 << volta_sgemm_128x128_nt\n",
      "1.9e+10 << \"void cudnn::detail::explicit_convolve_sgemm<float, int, int=128, int=\n",
      "1.9e+10 << volta_scudnn_128x64_relu_interior_nn_v1\n",
      "1.9e+10 << volta_gcgemm_64x32_nt\n",
      "1.8e+10 << \"void cudnn::detail::implicit_convolve_sgemm<float, float, int=1024, i\n",
      "1.8e+10 << volta_scudnn_128x128_relu_interior_nn_v1\n",
      "1.8e+10 << \"void cudnn::winograd::winograd3x3Kernel<float, float, int=1, int=4, i\n",
      "1.8e+10 << volta_scudnn_128x64_stridedB_interior_nn_v1\n",
      "1.7e+10 << \"void cudnn::detail::dgrad_engine<float, int=128, int=6, int=8, int=3,\n",
      "1.7e+10 << \"void cudnn::detail::implicit_convolve_sgemm<float, float, int=1024, i\n",
      "1.7e+10 << \"void cudnn::detail::wgrad_alg0_engine<float, int=128, int=6, int=8, i\n",
      "1.7e+10 << \"void cudnn::detail::wgrad_alg0_engine<float, int=512, int=6, int=5, i\n",
      "1.5e+10 << volta_scudnn_128x64_relu_medium_nn_v1\n",
      "1.5e+10 << \"void cudnn::detail::explicit_convolve_sgemm<float, int, int=128, int=\n",
      "1.5e+10 << volta_scudnn_128x64_stridedB_splitK_interior_nn_v1\n",
      "1.5e+10 << volta_scudnn_128x128_stridedB_interior_nn_v1\n",
      "1.5e+10 << volta_sgemm_128x128_nn\n",
      "9.7e+09 << volta_sgemm_128x64_nn\n",
      "9.5e+09 << volta_sgemm_128x64_nt\n",
      "5.9e+09 << volta_gcgemm_32x32_nt\n",
      "4.3e+09 << \"void cudnn::detail::explicit_convolve_sgemm<float, int, int=1024, int\n",
      "3.9e+09 << \"void fft2d_c2r_32x32<float, bool=0, unsigned int=1, bool=0, bool=0>(f\n",
      "3.7e+09 << \"void fft2d_r2c_32x32<float, unsigned int=1, bool=0>(float2*, float co\n",
      "3.6e+09 << \"void fft2d_c2r_64x64<float, bool=0>(float*, float2*, int, int, int, i\n",
      "3.4e+09 << \"void DSE::regular_fft_pad<int=0, int=1, int=256, int=16, int=16, int=\n",
      "3.3e+09 << \"void fft2d_r2c_64x64<float>(float2*, float const *, int, int, int, in\n",
      "3.2e+09 << \"void DSE::regular_fft_clip<int=1, int=2, int=256, int=16, int=16, int\n",
      "3.1e+09 << \"void DSE::vector_fft<int=1, int=2, int=256, int=16, int=16, int=1, fl\n",
      "3.1e+09 << \"void DSE::vector_fft<int=0, int=1, int=256, int=16, int=16, int=1, fl\n",
      "2.5e+09 << \"void DSE::vector_fft<int=0, int=1, int=128, int=8, int=8, int=1, floa\n",
      "2.3e+09 << \"void DSE::regular_fft_pad<int=0, int=1, int=128, int=16, int=32, int=\n",
      "2.2e+09 << \"void DSE::vector_fft<int=1, int=2, int=128, int=8, int=8, int=1, floa\n",
      "2.0e+09 << volta_cgemm_32x32_tn\n",
      "1.9e+09 << \"void DSE::regular_fft_clip<int=1, int=2, int=128, int=16, int=32, int\n",
      "1.6e+09 << \"void fft2d_c2r_16x16<float, bool=0>(float*, float2*, int, int, int, i\n",
      "1.4e+09 << \"void fft2d_r2c_16x16<float>(float2*, float const *, int, int, int, in\n",
      "1.2e+09 << \"void sgemm_largek_lds64<bool=0, bool=0, int=5, int=5, int=4, int=4, i\n",
      "1.2e+09 << volta_sgemm_128x64_tn\n"
     ]
    }
   ],
   "source": [
    "sorted_avg = ops.sort_nvprof_dict(nvprof_dict)\n",
    "for key, val in sorted_avg.items():\n",
    "    if val < 1E+9:\n",
    "        break\n",
    "    print('%3.1e << %s' % (val, key[:min(len(key), 70)]))"
   ]
  },
  {
   "cell_type": "code",
   "execution_count": 4,
   "metadata": {
    "scrolled": false
   },
   "outputs": [
    {
     "name": "stdout",
     "output_type": "stream",
     "text": [
      "Collapsed 95 of 128 entries\n",
      "OPS: Min: 7.7e+11, Max: 1.6e+12, Avg: 1.1e+12\n"
     ]
    }
   ],
   "source": [
    "simplified_nvprof = ops.cluster_nvprof_ops(nvprof_dict)\n",
    "print('OPS: Min: %3.1e, Max: %3.1e, Avg: %3.1e' % ops.sum_nvprof_ops(simplified_nvprof))"
   ]
  },
  {
   "cell_type": "code",
   "execution_count": 5,
   "metadata": {
    "scrolled": false
   },
   "outputs": [
    {
     "name": "stdout",
     "output_type": "stream",
     "text": [
      "3.0e+11 << volta_scudnn_stridedB_splitK\n",
      "2.5e+11 << conv\n",
      "1.5e+11 << relu\n",
      "1.1e+11 << volta_cgemm_tn\n",
      "1.0e+11 << cudnn::detail::wgrad_alg0_engine\n",
      "5.4e+10 << volta_sgemm\n",
      "3.9e+10 << void cudnn::detail::dgrad_engine\n",
      "3.2e+10 << \"void pointwise_mult_and_sum_complex<flo\n",
      "2.4e+10 << volta_gcgemm\n",
      "1.8e+10 << \"void cudnn::winograd::winograd3x3Kernel\n",
      "1.1e+10 << regular_fft\n",
      "1.1e+10 << void DSE::vector_fft\n",
      "9.2e+09 << fft2d_c2r\n",
      "8.7e+09 << fft2d_r2c\n",
      "1.2e+09 << \"void sgemm_largek_lds64<bool=0, bool=0,\n"
     ]
    }
   ],
   "source": [
    "sorted_avg = ops.sort_nvprof_dict(simplified_nvprof)\n",
    "for key, val in sorted_avg.items():\n",
    "    if val < 1E+9:\n",
    "        break\n",
    "    print('%3.1e << %s' % (val, key[:min(len(key), 40)]))"
   ]
  },
  {
   "cell_type": "code",
   "execution_count": 8,
   "metadata": {},
   "outputs": [
    {
     "data": {
      "text/plain": [
       "96"
      ]
     },
     "execution_count": 8,
     "metadata": {},
     "output_type": "execute_result"
    }
   ],
   "source": [
    "3 * 32"
   ]
  },
  {
   "cell_type": "code",
   "execution_count": null,
   "metadata": {
    "collapsed": true
   },
   "outputs": [],
   "source": []
  }
 ],
 "metadata": {
  "kernelspec": {
   "display_name": "Python [default]",
   "language": "python",
   "name": "python3"
  },
  "language_info": {
   "codemirror_mode": {
    "name": "ipython",
    "version": 3
   },
   "file_extension": ".py",
   "mimetype": "text/x-python",
   "name": "python",
   "nbconvert_exporter": "python",
   "pygments_lexer": "ipython3",
   "version": "3.5.2"
  }
 },
 "nbformat": 4,
 "nbformat_minor": 2
}
