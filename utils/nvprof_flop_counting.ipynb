{
 "cells": [
  {
   "cell_type": "code",
   "execution_count": 31,
   "metadata": {},
   "outputs": [],
   "source": [
    "import re\n",
    "import numpy as np"
   ]
  },
  {
   "cell_type": "code",
   "execution_count": 34,
   "metadata": {},
   "outputs": [],
   "source": [
    "def cal_nvprofs_flops(nvprof_csv, runtime=1):\n",
    "    \"\"\"\n",
    "    Extract data from nvprof and calculate/return OPS, FLOPS.\n",
    "    \"\"\"\n",
    "    p = re.compile(r'Device')\n",
    "    with open(nvprof_csv) as f:\n",
    "        skip_ln = 0\n",
    "        while(True):\n",
    "            line = f.readline()\n",
    "            match = p.search(line)\n",
    "            if match:\n",
    "                fields = line\n",
    "                skip_ln += 1\n",
    "                break\n",
    "            if skip_ln > 20:\n",
    "                print('The provided file is missing nvprof headers!')\n",
    "                break\n",
    "            skip_ln += 1  \n",
    "    fields = fields.split(',')\n",
    "    print('Extracted Fields: ')\n",
    "    print(fields)\n",
    "    arr = np.genfromtxt(nvprof_csv,skip_header=skip_ln, delimiter='Floating Point Operations(Single Precision)',\n",
    "                    comments='==',dtype=None, encoding=None)\n",
    "    print(arr[0,1].split(','))\n",
    "    data = np.array([itm.split(',')[1:] for itm in arr[:,-1]]).astype(np.float64)\n",
    "    Min, Max, Avg = data.T\n",
    "# #     return Min, Max, Avg\n",
    "#     return arr\n",
    "    OPS = np.array([Min.sum(), Max.sum(), Avg.sum()])\n",
    "    # Return OPS\n",
    "    print('Min: %2.3e , Max: %2.3e, Avg: %2.3e  (Total Kernel OPS)'%(OPS[0],OPS[1],OPS[2]))\n",
    "    # Return FLOPS\n",
    "    FLOPS = OPS/runtime\n",
    "    print('Min: %2.3e , Max: %2.3e, Avg: %2.3e  (FLOPS)'%(FLOPS[0], FLOPS[1], FLOPS[2]))\n",
    "    return OPS, FLOPS"
   ]
  },
  {
   "cell_type": "code",
   "execution_count": 36,
   "metadata": {},
   "outputs": [
    {
     "name": "stdout",
     "output_type": "stream",
     "text": [
      "Extracted Fields: \n",
      "['Device', 'Kernel', 'Invocations', 'Metric Name', 'Metric Description', 'Min', 'Max', 'Avg\\n']\n",
      "['', '1', '18432000', '258362']\n",
      "Min: 7.710e+11 , Max: 1.626e+12, Avg: 1.132e+12  (Total Kernel OPS)\n",
      "Min: 1.542e+12 , Max: 3.252e+12, Avg: 2.263e+12  (FLOPS)\n"
     ]
    }
   ],
   "source": [
    "_,_ = cal_nvprofs_flops('nvprof_sp.csv', runtime=0.5)"
   ]
  }
 ],
 "metadata": {
  "kernelspec": {
   "display_name": "Python 3",
   "language": "python",
   "name": "python3"
  },
  "language_info": {
   "codemirror_mode": {
    "name": "ipython",
    "version": 3
   },
   "file_extension": ".py",
   "mimetype": "text/x-python",
   "name": "python",
   "nbconvert_exporter": "python",
   "pygments_lexer": "ipython3",
   "version": "3.6.4"
  }
 },
 "nbformat": 4,
 "nbformat_minor": 2
}
